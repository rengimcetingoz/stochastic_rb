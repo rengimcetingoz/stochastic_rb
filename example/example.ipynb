{
 "cells": [
  {
   "cell_type": "code",
   "execution_count": 1,
   "metadata": {},
   "outputs": [],
   "source": [
    "from risk_budgeting import RiskBudgeting\n",
    "import numpy as np\n",
    "import pandas as pd\n",
    "import matplotlib.pyplot as plt"
   ]
  },
  {
   "cell_type": "code",
   "execution_count": 2,
   "metadata": {},
   "outputs": [],
   "source": [
    "np.random.seed(0)"
   ]
  },
  {
   "cell_type": "code",
   "execution_count": 3,
   "metadata": {},
   "outputs": [
    {
     "data": {
      "text/html": [
       "<div>\n",
       "<style scoped>\n",
       "    .dataframe tbody tr th:only-of-type {\n",
       "        vertical-align: middle;\n",
       "    }\n",
       "\n",
       "    .dataframe tbody tr th {\n",
       "        vertical-align: top;\n",
       "    }\n",
       "\n",
       "    .dataframe thead th {\n",
       "        text-align: right;\n",
       "    }\n",
       "</style>\n",
       "<table border=\"1\" class=\"dataframe\">\n",
       "  <thead>\n",
       "    <tr style=\"text-align: right;\">\n",
       "      <th></th>\n",
       "      <th>NLOK</th>\n",
       "      <th>AIG</th>\n",
       "      <th>NFLX</th>\n",
       "    </tr>\n",
       "  </thead>\n",
       "  <tbody>\n",
       "    <tr>\n",
       "      <th>2008-08-08</th>\n",
       "      <td>0.015242</td>\n",
       "      <td>0.043205</td>\n",
       "      <td>0.019370</td>\n",
       "    </tr>\n",
       "    <tr>\n",
       "      <th>2008-08-11</th>\n",
       "      <td>0.008644</td>\n",
       "      <td>-0.016084</td>\n",
       "      <td>0.037037</td>\n",
       "    </tr>\n",
       "    <tr>\n",
       "      <th>2008-08-12</th>\n",
       "      <td>-0.012630</td>\n",
       "      <td>-0.066204</td>\n",
       "      <td>-0.043168</td>\n",
       "    </tr>\n",
       "    <tr>\n",
       "      <th>2008-08-13</th>\n",
       "      <td>0.007309</td>\n",
       "      <td>-0.035011</td>\n",
       "      <td>0.011360</td>\n",
       "    </tr>\n",
       "    <tr>\n",
       "      <th>2008-08-14</th>\n",
       "      <td>0.020408</td>\n",
       "      <td>0.034921</td>\n",
       "      <td>0.021823</td>\n",
       "    </tr>\n",
       "    <tr>\n",
       "      <th>...</th>\n",
       "      <td>...</td>\n",
       "      <td>...</td>\n",
       "      <td>...</td>\n",
       "    </tr>\n",
       "    <tr>\n",
       "      <th>2022-04-08</th>\n",
       "      <td>-0.013623</td>\n",
       "      <td>0.024003</td>\n",
       "      <td>-0.017313</td>\n",
       "    </tr>\n",
       "    <tr>\n",
       "      <th>2022-04-11</th>\n",
       "      <td>-0.006719</td>\n",
       "      <td>-0.008869</td>\n",
       "      <td>-0.022142</td>\n",
       "    </tr>\n",
       "    <tr>\n",
       "      <th>2022-04-12</th>\n",
       "      <td>-0.006764</td>\n",
       "      <td>-0.002077</td>\n",
       "      <td>-0.011207</td>\n",
       "    </tr>\n",
       "    <tr>\n",
       "      <th>2022-04-13</th>\n",
       "      <td>0.016648</td>\n",
       "      <td>0.008487</td>\n",
       "      <td>0.018396</td>\n",
       "    </tr>\n",
       "    <tr>\n",
       "      <th>2022-04-14</th>\n",
       "      <td>-0.008560</td>\n",
       "      <td>0.000794</td>\n",
       "      <td>-0.026539</td>\n",
       "    </tr>\n",
       "  </tbody>\n",
       "</table>\n",
       "<p>3446 rows × 3 columns</p>\n",
       "</div>"
      ],
      "text/plain": [
       "                NLOK       AIG      NFLX\n",
       "2008-08-08  0.015242  0.043205  0.019370\n",
       "2008-08-11  0.008644 -0.016084  0.037037\n",
       "2008-08-12 -0.012630 -0.066204 -0.043168\n",
       "2008-08-13  0.007309 -0.035011  0.011360\n",
       "2008-08-14  0.020408  0.034921  0.021823\n",
       "...              ...       ...       ...\n",
       "2022-04-08 -0.013623  0.024003 -0.017313\n",
       "2022-04-11 -0.006719 -0.008869 -0.022142\n",
       "2022-04-12 -0.006764 -0.002077 -0.011207\n",
       "2022-04-13  0.016648  0.008487  0.018396\n",
       "2022-04-14 -0.008560  0.000794 -0.026539\n",
       "\n",
       "[3446 rows x 3 columns]"
      ]
     },
     "execution_count": 3,
     "metadata": {},
     "output_type": "execute_result"
    }
   ],
   "source": [
    "data = pd.read_csv('daily_returns_data.csv', index_col=0)\n",
    "data"
   ]
  },
  {
   "cell_type": "code",
   "execution_count": 4,
   "metadata": {},
   "outputs": [
    {
     "data": {
      "text/plain": [
       "array([[ 0.01524249,  0.0432047 ,  0.01936967],\n",
       "       [ 0.00864422, -0.01608363,  0.03703704],\n",
       "       [-0.01262968, -0.06620351, -0.0431677 ],\n",
       "       ...,\n",
       "       [-0.00676437, -0.00207734, -0.0112069 ],\n",
       "       [ 0.01664775,  0.00848679,  0.01839582],\n",
       "       [-0.00855973,  0.0007939 , -0.02653882]])"
      ]
     },
     "execution_count": 4,
     "metadata": {},
     "output_type": "execute_result"
    }
   ],
   "source": [
    "X = data.values\n",
    "X"
   ]
  },
  {
   "cell_type": "markdown",
   "metadata": {},
   "source": [
    "### Example use cases "
   ]
  },
  {
   "cell_type": "code",
   "execution_count": 5,
   "metadata": {},
   "outputs": [],
   "source": [
    "# we define our risk budgeting problem\n",
    "rb = RiskBudgeting(risk_measure='volatility',\n",
    "                   budgets='ERC')"
   ]
  },
  {
   "cell_type": "code",
   "execution_count": 6,
   "metadata": {},
   "outputs": [],
   "source": [
    "# we solve the defined problem using given sample of asset returns\n",
    "rb.solve(X)"
   ]
  },
  {
   "cell_type": "code",
   "execution_count": 7,
   "metadata": {},
   "outputs": [
    {
     "data": {
      "text/plain": [
       "array([0.4415268 , 0.23853649, 0.31993671])"
      ]
     },
     "execution_count": 7,
     "metadata": {},
     "output_type": "execute_result"
    }
   ],
   "source": [
    "# weigths of the risk budgeting portfolio\n",
    "rb.x"
   ]
  },
  {
   "cell_type": "code",
   "execution_count": 8,
   "metadata": {},
   "outputs": [
    {
     "data": {
      "text/plain": [
       "array([0.55654091, 0.21705099, 0.2264081 ])"
      ]
     },
     "execution_count": 8,
     "metadata": {},
     "output_type": "execute_result"
    }
   ],
   "source": [
    "# we can assign different risk budgets\n",
    "rb = RiskBudgeting(risk_measure='volatility',\n",
    "                   budgets=np.array([0.5, 0.3, 0.2]))\n",
    "\n",
    "rb.solve(X)\n",
    "rb.x"
   ]
  },
  {
   "cell_type": "code",
   "execution_count": 9,
   "metadata": {},
   "outputs": [
    {
     "data": {
      "image/png": "[encoded data removed]",
      "text/plain": [
       "<Figure size 432x288 with 1 Axes>"
      ]
     },
     "metadata": {
      "needs_background": "light"
     },
     "output_type": "display_data"
    }
   ],
   "source": [
    "# we can store the evolution of variables through out the optimization process to observe convergence\n",
    "rb = RiskBudgeting(risk_measure='volatility',\n",
    "                   budgets='ERC')\n",
    "\n",
    "rb.solve(X, store=True)\n",
    "plt.plot(rb.ys);"
   ]
  },
  {
   "cell_type": "code",
   "execution_count": 10,
   "metadata": {},
   "outputs": [
    {
     "data": {
      "text/plain": [
       "array([0.40717944, 0.23852254, 0.35429802])"
      ]
     },
     "execution_count": 10,
     "metadata": {},
     "output_type": "execute_result"
    }
   ],
   "source": [
    "# we define our risk budgeting problem for expected shortfall\n",
    "rb = RiskBudgeting(risk_measure='expected_shortfall',\n",
    "                   alpha=0.95,\n",
    "                   budgets='ERC')\n",
    "\n",
    "rb.solve(X)\n",
    "rb.x"
   ]
  },
  {
   "cell_type": "code",
   "execution_count": 11,
   "metadata": {
    "scrolled": true
   },
   "outputs": [
    {
     "data": {
      "text/plain": [
       "array([0.41006767, 0.24097655, 0.34895578])"
      ]
     },
     "execution_count": 11,
     "metadata": {},
     "output_type": "execute_result"
    }
   ],
   "source": [
    "# we can factor out expected returns from expected shortfall\n",
    "rb = RiskBudgeting(risk_measure='expected_shortfall',\n",
    "                   alpha=0.95,\n",
    "                   expectation=True,\n",
    "                   budgets='ERC')\n",
    "\n",
    "rb.solve(X)\n",
    "rb.x"
   ]
  },
  {
   "cell_type": "code",
   "execution_count": 12,
   "metadata": {},
   "outputs": [
    {
     "data": {
      "text/plain": [
       "array([0.41101464, 0.24209383, 0.34689153])"
      ]
     },
     "execution_count": 12,
     "metadata": {},
     "output_type": "execute_result"
    }
   ],
   "source": [
    "# we define our risk budgeting problem for power spectral measure\n",
    "rb = RiskBudgeting(risk_measure='power_spectral_risk_measure',\n",
    "                   gamma=20,\n",
    "                   budgets='ERC')\n",
    "\n",
    "rb.solve(X)\n",
    "rb.x"
   ]
  },
  {
   "cell_type": "code",
   "execution_count": 13,
   "metadata": {},
   "outputs": [
    {
     "data": {
      "text/plain": [
       "array([0.40847699, 0.24706063, 0.34446238])"
      ]
     },
     "execution_count": 13,
     "metadata": {},
     "output_type": "execute_result"
    }
   ],
   "source": [
    "# we define our risk budgeting problem for variantile\n",
    "rb = RiskBudgeting(risk_measure='variantile',\n",
    "                   alpha=0.99,\n",
    "                   budgets='ERC')\n",
    "\n",
    "rb.solve(X)\n",
    "rb.x"
   ]
  },
  {
   "cell_type": "markdown",
   "metadata": {},
   "source": [
    "### Customize hyperparameters of the solver"
   ]
  },
  {
   "cell_type": "code",
   "execution_count": 14,
   "metadata": {},
   "outputs": [
    {
     "data": {
      "text/plain": [
       "array([0.41636391, 0.2932629 , 0.29037319])"
      ]
     },
     "execution_count": 14,
     "metadata": {},
     "output_type": "execute_result"
    },
    {
     "data": {
      "image/png": "[encoded data removed]",
      "text/plain": [
       "<Figure size 432x288 with 1 Axes>"
      ]
     },
     "metadata": {
      "needs_background": "light"
     },
     "output_type": "display_data"
    }
   ],
   "source": [
    "# we can define our risk budgeting problem for median absolute deviation\n",
    "rb = RiskBudgeting(risk_measure='median_absolute_deviation',\n",
    "                   budgets='ERC')\n",
    "\n",
    "# Choosing the parameters/hyperparameters of stochastic gradient descent is a sensitive task. We can modify parameters to ensure convergence\n",
    "rb.solve(X,\n",
    "         epochs=500,\n",
    "         minibatch_size=64,\n",
    "         eta_0_y=500, \n",
    "         eta_0_t=1,\n",
    "         c=0.65,\n",
    "         polyak_ruppert=0.2,\n",
    "         store=True)\n",
    "\n",
    "plt.plot(rb.ys);\n",
    "rb.x"
   ]
  }
 ],
 "metadata": {
  "kernelspec": {
   "display_name": "Python 3",
   "language": "python",
   "name": "python3"
  },
  "language_info": {
   "codemirror_mode": {
    "name": "ipython",
    "version": 3
   },
   "file_extension": ".py",
   "mimetype": "text/x-python",
   "name": "python",
   "nbconvert_exporter": "python",
   "pygments_lexer": "ipython3",
   "version": "3.8.5"
  }
 },
 "nbformat": 4,
 "nbformat_minor": 4
}
