{
 "cells": [
  {
   "cell_type": "code",
   "execution_count": 1,
   "metadata": {},
   "outputs": [],
   "source": [
    "from risk_budgeting import *\n",
    "from scipy.stats import multivariate_normal\n",
    "import matplotlib.pyplot as plt\n",
    "%load_ext autoreload\n",
    "%autoreload 2"
   ]
  },
  {
   "cell_type": "code",
   "execution_count": 2,
   "metadata": {},
   "outputs": [],
   "source": [
    "mu  = np.array([0.02, 0.06, 0.10])\n",
    "cov = np.array([[0.0064, 0.0080, 0.0048],\n",
    "                [0.0080, 0.0400, 0.0240],\n",
    "                [0.0048, 0.0240, 0.0900]])\n",
    "\n",
    "X = multivariate_normal.rvs(mu, cov, 100000)"
   ]
  },
  {
   "cell_type": "code",
   "execution_count": 3,
   "metadata": {},
   "outputs": [],
   "source": [
    "# First we define our portfolio optimization problem\n",
    "rb = RiskBudgeting(risk_measure='volatility', budgets='ERC')\n",
    "\n",
    "# Then we solve the defined problem using X\n",
    "rb.solve(X)"
   ]
  },
  {
   "cell_type": "code",
   "execution_count": 4,
   "metadata": {},
   "outputs": [
    {
     "data": {
      "text/plain": [
       "array([0.60916675, 0.2215423 , 0.16929095])"
      ]
     },
     "execution_count": 4,
     "metadata": {},
     "output_type": "execute_result"
    }
   ],
   "source": [
    "# risk bugdeting portfolio\n",
    "rb.x"
   ]
  },
  {
   "cell_type": "code",
   "execution_count": 203,
   "metadata": {},
   "outputs": [
    {
     "name": "stdout",
     "output_type": "stream",
     "text": [
      "\n",
      "\n",
      "    Representation of a Risk Budgeting problem.\n",
      "    This class allows to find the Risk Budgeting portfolio under certain specifications.\n",
      "\n",
      "    Parameters\n",
      "    ----------\n",
      "\n",
      "    risk_measure : {'volatility' (default),\n",
      "                    'median_absolute_deviation',\n",
      "                    'expected_shortfall',\n",
      "                    'power_spectral_risk_measure',\n",
      "                    'variantile'}\n",
      "        String describing the type of risk measure to use.\n",
      "\n",
      "    budgets : {'ERC' (default), numpy.ndarray}\n",
      "        String or array describing the risk budgets. 'ERC' stands for Equal Risk Contribution. In other cases, risk budgets\n",
      "        should be given as an array with relevant dimension.\n",
      "\n",
      "    expectation : bool, default to False.\n",
      "\n",
      "    beta : float, defaults to 1.00\n",
      "        Weight of the risk measure component when 'expectation' is True. Not used when 'expectation' is False.\n",
      "\n",
      "    delta : float, defaults to 1.00\n",
      "        Weight of the expected return component when 'expectation' is True. Not used when 'expectation' is False.\n",
      "\n",
      "    alpha : float\n",
      "        Confidence level when 'risk_measure' is 'expected_shortfall'. Weight of the first component when 'risk_measure'\n",
      "        is 'variantile'. Not used in other cases.\n",
      "\n",
      "    gamma : float\n",
      "        Coefficient of the power utility function needed when 'risk_measure' is 'power_spectral_risk_measure' Not used\n",
      "        in other cases.\n",
      "\n",
      "    Attributes\n",
      "    ----------\n",
      "    x : numpy.ndarray\n",
      "        The weights of the computed Risk Budgeting portfolio.\n",
      "\n",
      "    \n"
     ]
    }
   ],
   "source": [
    "print(RiskBudgeting.__doc__)"
   ]
  },
  {
   "cell_type": "code",
   "execution_count": 205,
   "metadata": {},
   "outputs": [
    {
     "name": "stdout",
     "output_type": "stream",
     "text": [
      "Help on class RiskBudgeting in module risk_budgeting:\n",
      "\n",
      "class RiskBudgeting(builtins.object)\n",
      " |  RiskBudgeting(risk_measure='volatility', budgets='ERC', expectation=False, beta=1.0, delta=1.0, alpha=None, gamma=None)\n",
      " |  \n",
      " |  Representation of a Risk Budgeting problem.\n",
      " |  This class allows to find the Risk Budgeting portfolio under certain specifications.\n",
      " |  \n",
      " |  Parameters\n",
      " |  ----------\n",
      " |  \n",
      " |  risk_measure : {'volatility' (default),\n",
      " |                  'median_absolute_deviation',\n",
      " |                  'expected_shortfall',\n",
      " |                  'power_spectral_risk_measure',\n",
      " |                  'variantile'}\n",
      " |      String describing the type of risk measure to use.\n",
      " |  \n",
      " |  budgets : {'ERC' (default), numpy.ndarray}\n",
      " |      String or array describing the risk budgets. 'ERC' stands for Equal Risk Contribution. In other cases, risk budgets\n",
      " |      should be given as an array with relevant dimension.\n",
      " |  \n",
      " |  expectation : bool, default to False.\n",
      " |  \n",
      " |  beta : float, defaults to 1.00\n",
      " |      Weight of the risk measure component when 'expectation' is True. Not used when 'expectation' is False.\n",
      " |  \n",
      " |  delta : float, defaults to 1.00\n",
      " |      Weight of the expected return component when 'expectation' is True. Not used when 'expectation' is False.\n",
      " |  \n",
      " |  alpha : float\n",
      " |      Confidence level when 'risk_measure' is 'expected_shortfall'. Weight of the first component when 'risk_measure'\n",
      " |      is 'variantile'. Not used in other cases.\n",
      " |  \n",
      " |  gamma : float\n",
      " |      Coefficient of the power utility function needed when 'risk_measure' is 'power_spectral_risk_measure' Not used\n",
      " |      in other cases.\n",
      " |  \n",
      " |  Attributes\n",
      " |  ----------\n",
      " |  x : numpy.ndarray\n",
      " |      The weights of the computed Risk Budgeting portfolio.\n",
      " |  \n",
      " |  Methods defined here:\n",
      " |  \n",
      " |  __init__(self, risk_measure='volatility', budgets='ERC', expectation=False, beta=1.0, delta=1.0, alpha=None, gamma=None)\n",
      " |  \n",
      " |  solve(self, X, epochs=None, minibatch_size=128, y_init=None, t_init=None, eta_0_y=None, eta_0_t=None, c=0.65, polyak_ruppert=0.2, discretize=None, proj_y=None, store=False)\n",
      " |      Solves the defined risk budgeting problem using a given sample of asset returns via\n",
      " |      stochastic gradient descent and returns the risk budgeting portfolio.\n",
      " |      \n",
      " |      Parameters\n",
      " |      ----------\n",
      " |      \n",
      " |      X : numpy.ndarray shape=(n,d)\n",
      " |          Sample of asset returns\n",
      " |      \n",
      " |      epochs : int, optional. Defaults to int(2e06/n).\n",
      " |          Number of epochs.\n",
      " |      \n",
      " |      minibatch_size : int, optional. Defaults to 128.\n",
      " |          Mini-batch size.\n",
      " |      \n",
      " |      y_init (numpy.ndarray, optional): numpy.ndarray shape=(d,). Defaults to a vector which is a\n",
      " |          solution to risk budgeting problem for volatility under the assumption that the correlation matrix is\n",
      " |          all-ones matrix.\n",
      " |          Initial value for each element of the vector of asset weights.\n",
      " |      \n",
      " |      t_init : float, optional. Defaults to a minimizer of a similar problem with analytical solution.\n",
      " |          Initial value for t.\n",
      " |      \n",
      " |      eta_0_t : float, optional. Defaults to 0.5.\n",
      " |          Step size coefficient for variable t.\n",
      " |      \n",
      " |      eta_0_y : float, optional. Defaults to 50/d.\n",
      " |          Step size coefficient for vector y.\n",
      " |      \n",
      " |      c : float, optional. Defaults to 0.65.\n",
      " |          Step size power.\n",
      " |      \n",
      " |      polyak_ruppert : float, optional. Defaults to 0.2.\n",
      " |           Polyak-Ruppert averaging for last % iterates.\n",
      " |      \n",
      " |      discretize : dict, optional. Defaults to {'step': 50, 'bounds': (.5, .99)}\n",
      " |          Parameters to discretize the integral for spectral risk measures.\n",
      " |      \n",
      " |      proj_y : float, optional. Defaults to y_init.\n",
      " |          Value for projection of asset weights into the feasible space.\n",
      " |      \n",
      " |      store : bool, optional. Defaults to False.\n",
      " |          store y and t along the optimization path.\n",
      " |  \n",
      " |  ----------------------------------------------------------------------\n",
      " |  Data descriptors defined here:\n",
      " |  \n",
      " |  __dict__\n",
      " |      dictionary for instance variables (if defined)\n",
      " |  \n",
      " |  __weakref__\n",
      " |      list of weak references to the object (if defined)\n",
      "\n"
     ]
    }
   ],
   "source": [
    "help(RiskBudgeting)"
   ]
  },
  {
   "cell_type": "code",
   "execution_count": 204,
   "metadata": {},
   "outputs": [
    {
     "name": "stdout",
     "output_type": "stream",
     "text": [
      "Solves the defined risk budgeting problem using a given sample of asset returns via\n",
      "        stochastic gradient descent and returns the risk budgeting portfolio.\n",
      "\n",
      "        Args:\n",
      "            X (numpy.ndarray): Sample of asset returns (shape=(n,d))\n",
      "            epochs (int, optional): Number of epochs. Defaults to int(2e06/n).\n",
      "            minibatch_size (int, optional): Mini-batch size. Defaults to 128.\n",
      "            y_init (numpy.ndarray, optional): Initial value for each element of the vector of asset weights (shape=(d,)).\n",
      "                                              Defaults to a vector which is a solution to risk budgeting problem for\n",
      "                                              volatility under the assumption that the correlation matrix is all-ones\n",
      "                                              matrix.\n",
      "            t_init (float, optional): Initial value for t. Defaults to a minimizer of\n",
      "            a similar problem with analytical solution.\n",
      "            eta_0_t (float, optional): step size coefficient for variable t. Defaults to 0.5.\n",
      "            eta_0_y (float, optional): step size coefficient for vector y. Defaults to 50/d.\n",
      "            c (float, optional): step size power. Defaults to 0.65.\n",
      "            polyak_ruppert (float, optional): Polyak-Ruppert averaging for last % iterates. Defaults to 0.2.\n",
      "            discretize (dict, optional): parameters to discretize the integral for spectral risk measures.\n",
      "            proj_y (float, optional): Value for projection of asset weights into the feasible space. Defaults to y_init.\n",
      "            store (bool, optional): store y and t along the optimization path. Defaults to False.\n",
      "\n",
      "        Returns:\n",
      "        \n"
     ]
    }
   ],
   "source": [
    "print(RiskBudgeting.solve.__doc__)"
   ]
  },
  {
   "cell_type": "code",
   "execution_count": 181,
   "metadata": {},
   "outputs": [],
   "source": [
    "# First we define our portfolio optimization problem\n",
    "rb = RiskBudgeting(risk_measure='volatility', budgets='ERC')\n",
    "\n",
    "# Then we solve the defined problem using X\n",
    "rb.solve(X, store=True)"
   ]
  },
  {
   "cell_type": "code",
   "execution_count": 182,
   "metadata": {},
   "outputs": [
    {
     "data": {
      "text/plain": [
       "array([0.60905724, 0.22163379, 0.16930897])"
      ]
     },
     "execution_count": 182,
     "metadata": {},
     "output_type": "execute_result"
    }
   ],
   "source": [
    "# risk bugdeting portfolio\n",
    "rb.x"
   ]
  },
  {
   "cell_type": "code",
   "execution_count": 183,
   "metadata": {},
   "outputs": [
    {
     "data": {
      "text/plain": [
       "True"
      ]
     },
     "execution_count": 183,
     "metadata": {},
     "output_type": "execute_result"
    }
   ],
   "source": [
    "rb.success"
   ]
  },
  {
   "cell_type": "code",
   "execution_count": 185,
   "metadata": {},
   "outputs": [
    {
     "data": {
      "image/png": "[encoded data removed]",
      "text/plain": [
       "<Figure size 432x288 with 1 Axes>"
      ]
     },
     "metadata": {
      "needs_background": "light"
     },
     "output_type": "display_data"
    }
   ],
   "source": [
    "plt.plot(rb.ts);"
   ]
  },
  {
   "cell_type": "code",
   "execution_count": 178,
   "metadata": {},
   "outputs": [
    {
     "data": {
      "text/plain": [
       "array([ True,  True,  True])"
      ]
     },
     "execution_count": 178,
     "metadata": {},
     "output_type": "execute_result"
    }
   ],
   "source": [
    "if False in np.array([0.5, 0.3, 0.2])>0:\n",
    "    "
   ]
  },
  {
   "cell_type": "code",
   "execution_count": 175,
   "metadata": {},
   "outputs": [],
   "source": [
    "# First we define our portfolio optimization problem\n",
    "rb = RiskBudgeting(risk_measure='volatility', budgets=np.array([0.5, 0.3, 0.2]))\n",
    "\n",
    "# Then we solve the defined problem using X\n",
    "rb.solve(X, store=True)"
   ]
  },
  {
   "cell_type": "code",
   "execution_count": 179,
   "metadata": {},
   "outputs": [],
   "source": [
    "rb = RiskBudgeting(risk_measure='VaR', budgets=np.array([0.5, 0.3, 0.2]))"
   ]
  },
  {
   "cell_type": "code",
   "execution_count": 180,
   "metadata": {},
   "outputs": [
    {
     "ename": "ValueError",
     "evalue": "The given risk measure is not applicable.",
     "output_type": "error",
     "traceback": [
      "\u001b[1;31m---------------------------------------------------------------------------\u001b[0m",
      "\u001b[1;31mValueError\u001b[0m                                Traceback (most recent call last)",
      "\u001b[1;32m<ipython-input-180-afe6806a4ac6>\u001b[0m in \u001b[0;36m<module>\u001b[1;34m\u001b[0m\n\u001b[0;32m      1\u001b[0m \u001b[1;31m# Then we solve the defined problem using X\u001b[0m\u001b[1;33m\u001b[0m\u001b[1;33m\u001b[0m\u001b[1;33m\u001b[0m\u001b[0m\n\u001b[1;32m----> 2\u001b[1;33m \u001b[0mrb\u001b[0m\u001b[1;33m.\u001b[0m\u001b[0msolve\u001b[0m\u001b[1;33m(\u001b[0m\u001b[0mX\u001b[0m\u001b[1;33m,\u001b[0m \u001b[0mstore\u001b[0m\u001b[1;33m=\u001b[0m\u001b[1;32mTrue\u001b[0m\u001b[1;33m)\u001b[0m\u001b[1;33m\u001b[0m\u001b[1;33m\u001b[0m\u001b[0m\n\u001b[0m",
      "\u001b[1;32m~\\Code\\RB_lib\\risk_budgeting.py\u001b[0m in \u001b[0;36msolve\u001b[1;34m(self, X, epochs, minibatch_size, y_init, t_init, eta_0_y, eta_0_t, c, polyak_ruppert, discretize, proj_y, store)\u001b[0m\n\u001b[0;32m    298\u001b[0m \u001b[1;33m\u001b[0m\u001b[0m\n\u001b[0;32m    299\u001b[0m         \u001b[1;32melse\u001b[0m\u001b[1;33m:\u001b[0m\u001b[1;33m\u001b[0m\u001b[1;33m\u001b[0m\u001b[0m\n\u001b[1;32m--> 300\u001b[1;33m             \u001b[1;32mraise\u001b[0m \u001b[0mValueError\u001b[0m\u001b[1;33m(\u001b[0m\u001b[1;34m'The given risk measure is not applicable.'\u001b[0m\u001b[1;33m)\u001b[0m\u001b[1;33m\u001b[0m\u001b[1;33m\u001b[0m\u001b[0m\n\u001b[0m\u001b[0;32m    301\u001b[0m \u001b[1;33m\u001b[0m\u001b[0m\n\u001b[0;32m    302\u001b[0m         \u001b[0my_sgd\u001b[0m \u001b[1;33m=\u001b[0m \u001b[0my_sum\u001b[0m \u001b[1;33m/\u001b[0m \u001b[0mint\u001b[0m\u001b[1;33m(\u001b[0m\u001b[0mpolyak_ruppert\u001b[0m \u001b[1;33m*\u001b[0m \u001b[1;33m(\u001b[0m\u001b[0mepochs\u001b[0m \u001b[1;33m*\u001b[0m \u001b[0mn\u001b[0m \u001b[1;33m/\u001b[0m \u001b[0mminibatch_size\u001b[0m\u001b[1;33m)\u001b[0m\u001b[1;33m)\u001b[0m\u001b[1;33m\u001b[0m\u001b[1;33m\u001b[0m\u001b[0m\n",
      "\u001b[1;31mValueError\u001b[0m: The given risk measure is not applicable."
     ]
    }
   ],
   "source": [
    "# Then we solve the defined problem using X\n",
    "rb.solve(X, store=True)"
   ]
  },
  {
   "cell_type": "code",
   "execution_count": 176,
   "metadata": {},
   "outputs": [
    {
     "data": {
      "text/plain": [
       "array([0.7124844 , 0.17995448, 0.10756112])"
      ]
     },
     "execution_count": 176,
     "metadata": {},
     "output_type": "execute_result"
    }
   ],
   "source": [
    "# risk bugdeting portfolio\n",
    "rb.x"
   ]
  },
  {
   "cell_type": "code",
   "execution_count": 177,
   "metadata": {},
   "outputs": [
    {
     "data": {
      "image/png": "[encoded data removed]",
      "text/plain": [
       "<Figure size 432x288 with 1 Axes>"
      ]
     },
     "metadata": {
      "needs_background": "light"
     },
     "output_type": "display_data"
    }
   ],
   "source": [
    "plt.plot(rb.ys);"
   ]
  },
  {
   "cell_type": "code",
   "execution_count": 76,
   "metadata": {},
   "outputs": [],
   "source": [
    "# First we define our portfolio optimization problem\n",
    "rb = RiskBudgeting(risk_measure='median_absolute_deviation', budgets='ERC')\n",
    "\n",
    "# Then we solve the defined problem using X\n",
    "rb.solve(X, eta_0_y=50, store=True)"
   ]
  },
  {
   "cell_type": "code",
   "execution_count": 74,
   "metadata": {},
   "outputs": [
    {
     "data": {
      "text/plain": [
       "array([0.60977844, 0.22122446, 0.1689971 ])"
      ]
     },
     "execution_count": 74,
     "metadata": {},
     "output_type": "execute_result"
    }
   ],
   "source": [
    "# risk bugdeting portfolio\n",
    "rb.x"
   ]
  },
  {
   "cell_type": "code",
   "execution_count": 75,
   "metadata": {},
   "outputs": [
    {
     "data": {
      "image/png": "[encoded data removed]",
      "text/plain": [
       "<Figure size 432x288 with 1 Axes>"
      ]
     },
     "metadata": {
      "needs_background": "light"
     },
     "output_type": "display_data"
    }
   ],
   "source": [
    "plt.plot(rb.ys);"
   ]
  },
  {
   "cell_type": "code",
   "execution_count": 151,
   "metadata": {},
   "outputs": [],
   "source": [
    "# First we define our portfolio optimization problem\n",
    "rb = RiskBudgeting(risk_measure='median_absolute_deviation', budgets='ERC', expectation=True)\n",
    "\n",
    "# Then we solve the defined problem using X\n",
    "rb.solve(X, eta_0_y=10, store=True)"
   ]
  },
  {
   "cell_type": "code",
   "execution_count": 149,
   "metadata": {},
   "outputs": [
    {
     "data": {
      "text/plain": [
       "array([0.06105165, 0.26609176, 0.67285659])"
      ]
     },
     "execution_count": 149,
     "metadata": {},
     "output_type": "execute_result"
    }
   ],
   "source": [
    "# risk bugdeting portfolio\n",
    "rb.x"
   ]
  },
  {
   "cell_type": "code",
   "execution_count": 150,
   "metadata": {},
   "outputs": [
    {
     "data": {
      "image/png": "[encoded data removed]",
      "text/plain": [
       "<Figure size 432x288 with 1 Axes>"
      ]
     },
     "metadata": {
      "needs_background": "light"
     },
     "output_type": "display_data"
    }
   ],
   "source": [
    "plt.plot(rb.ys);"
   ]
  },
  {
   "cell_type": "code",
   "execution_count": 13,
   "metadata": {},
   "outputs": [],
   "source": [
    "# First we define our portfolio optimization problem\n",
    "rb = RiskBudgeting(risk_measure='median_absolute_deviation', budgets='ERC', expectation=True, beta=1, delta=2)\n",
    "\n",
    "# Then we solve the defined problem using X\n",
    "rb.solve(X)"
   ]
  },
  {
   "cell_type": "code",
   "execution_count": 14,
   "metadata": {},
   "outputs": [
    {
     "data": {
      "text/plain": [
       "array([0.50147621, 0.23148739, 0.2670364 ])"
      ]
     },
     "execution_count": 14,
     "metadata": {},
     "output_type": "execute_result"
    }
   ],
   "source": [
    "rb.x"
   ]
  },
  {
   "cell_type": "code",
   "execution_count": 188,
   "metadata": {},
   "outputs": [],
   "source": [
    "# First we define our portfolio optimization problem\n",
    "rb = RiskBudgeting(risk_measure='expected_shortfall', budgets='ERC', alpha=0.95)\n",
    "\n",
    "# Then we solve the defined problem using X\n",
    "rb.solve(X, eta_0_y=.1, store=True)"
   ]
  },
  {
   "cell_type": "code",
   "execution_count": 197,
   "metadata": {},
   "outputs": [
    {
     "data": {
      "text/plain": [
       "12500.0"
      ]
     },
     "execution_count": 197,
     "metadata": {},
     "output_type": "execute_result"
    }
   ],
   "source": [
    "(2e06*.8 / 128)"
   ]
  },
  {
   "cell_type": "code",
   "execution_count": 196,
   "metadata": {},
   "outputs": [
    {
     "data": {
      "text/plain": [
       "array([0.63384468, 0.20648988, 0.15966544])"
      ]
     },
     "execution_count": 196,
     "metadata": {},
     "output_type": "execute_result"
    }
   ],
   "source": [
    "rb.ys[15624]/rb.ys[15624].sum()"
   ]
  },
  {
   "cell_type": "code",
   "execution_count": 198,
   "metadata": {},
   "outputs": [
    {
     "data": {
      "text/plain": [
       "array([0.63326167, 0.20738774, 0.1593506 ])"
      ]
     },
     "execution_count": 198,
     "metadata": {},
     "output_type": "execute_result"
    }
   ],
   "source": [
    "rb.ys[12500]/rb.ys[12500].sum()"
   ]
  },
  {
   "cell_type": "code",
   "execution_count": 190,
   "metadata": {},
   "outputs": [
    {
     "data": {
      "image/png": "[encoded data removed]",
      "text/plain": [
       "<Figure size 432x288 with 1 Axes>"
      ]
     },
     "metadata": {
      "needs_background": "light"
     },
     "output_type": "display_data"
    }
   ],
   "source": [
    "plt.plot(rb.ys);"
   ]
  },
  {
   "cell_type": "code",
   "execution_count": 153,
   "metadata": {},
   "outputs": [],
   "source": [
    "# First we define our portfolio optimization problem\n",
    "rb = RiskBudgeting(risk_measure='expected_shortfall', budgets='ERC', alpha=0.95)\n",
    "\n",
    "# Then we solve the defined problem using X\n",
    "rb.solve(X, epochs=50, c=.7, store=True)"
   ]
  },
  {
   "cell_type": "code",
   "execution_count": 161,
   "metadata": {},
   "outputs": [
    {
     "data": {
      "text/plain": [
       "array([0.5856313 , 0.21852923, 0.19583948])"
      ]
     },
     "execution_count": 161,
     "metadata": {},
     "output_type": "execute_result"
    }
   ],
   "source": [
    "rb.x"
   ]
  },
  {
   "cell_type": "code",
   "execution_count": null,
   "metadata": {},
   "outputs": [],
   "source": []
  },
  {
   "cell_type": "code",
   "execution_count": 115,
   "metadata": {},
   "outputs": [],
   "source": [
    "# First we define our portfolio optimization problem\n",
    "rb = RiskBudgeting(risk_measure='expected_shortfall', budgets='ERC', alpha=0.95, expectation=True, beta=1, delta=2)\n",
    "\n",
    "# Then we solve the defined problem using X\n",
    "rb.solve(X, epochs=50, c=.7, store=True)"
   ]
  },
  {
   "cell_type": "code",
   "execution_count": 116,
   "metadata": {},
   "outputs": [
    {
     "data": {
      "text/plain": [
       "array([0.61305724, 0.22287366, 0.1640691 ])"
      ]
     },
     "execution_count": 116,
     "metadata": {},
     "output_type": "execute_result"
    }
   ],
   "source": [
    "rb.x"
   ]
  },
  {
   "cell_type": "code",
   "execution_count": null,
   "metadata": {},
   "outputs": [],
   "source": []
  },
  {
   "cell_type": "code",
   "execution_count": 117,
   "metadata": {},
   "outputs": [
    {
     "data": {
      "text/plain": [
       "[<matplotlib.lines.Line2D at 0x1fe8f93e8b0>,\n",
       " <matplotlib.lines.Line2D at 0x1fe903208e0>,\n",
       " <matplotlib.lines.Line2D at 0x1fe90320c40>]"
      ]
     },
     "execution_count": 117,
     "metadata": {},
     "output_type": "execute_result"
    },
    {
     "data": {
      "image/png": "[encoded data removed]",
      "text/plain": [
       "<Figure size 432x288 with 1 Axes>"
      ]
     },
     "metadata": {
      "needs_background": "light"
     },
     "output_type": "display_data"
    }
   ],
   "source": [
    "plt.plot(rb.ys)"
   ]
  },
  {
   "cell_type": "code",
   "execution_count": null,
   "metadata": {},
   "outputs": [],
   "source": [
    "# First we define our portfolio optimization problem\n",
    "rb = RiskBudgeting(risk_measure='expected_shortfall', budgets='ERC', no_expectation=True, alpha=0.95)\n",
    "\n",
    "# Then we solve the defined problem using X\n",
    "rb.solve(X)"
   ]
  },
  {
   "cell_type": "code",
   "execution_count": null,
   "metadata": {},
   "outputs": [],
   "source": [
    "rb.x"
   ]
  },
  {
   "cell_type": "code",
   "execution_count": 129,
   "metadata": {},
   "outputs": [],
   "source": [
    "# First we define our portfolio optimization problem\n",
    "rb = RiskBudgeting(risk_measure='power_spectral_risk_measure', budgets='ERC', expectation=True, gamma=20)\n",
    "\n",
    "# Then we solve the defined problem using X\n",
    "rb.solve(X, epochs=50, c=.7, store=True)"
   ]
  },
  {
   "cell_type": "code",
   "execution_count": 130,
   "metadata": {},
   "outputs": [
    {
     "data": {
      "text/plain": [
       "array([0.60933888, 0.22252758, 0.16813355])"
      ]
     },
     "execution_count": 130,
     "metadata": {},
     "output_type": "execute_result"
    }
   ],
   "source": [
    "rb.x"
   ]
  },
  {
   "cell_type": "code",
   "execution_count": 131,
   "metadata": {},
   "outputs": [
    {
     "data": {
      "text/plain": [
       "[<matplotlib.lines.Line2D at 0x1fe92afe100>,\n",
       " <matplotlib.lines.Line2D at 0x1fe92b1a0d0>,\n",
       " <matplotlib.lines.Line2D at 0x1fe92b1a190>]"
      ]
     },
     "execution_count": 131,
     "metadata": {},
     "output_type": "execute_result"
    },
    {
     "data": {
      "image/png": "[encoded data removed]",
      "text/plain": [
       "<Figure size 432x288 with 1 Axes>"
      ]
     },
     "metadata": {
      "needs_background": "light"
     },
     "output_type": "display_data"
    }
   ],
   "source": [
    "plt.plot(rb.ys[-10000:])"
   ]
  },
  {
   "cell_type": "code",
   "execution_count": 132,
   "metadata": {},
   "outputs": [
    {
     "data": {
      "image/png": "[encoded data removed]",
      "text/plain": [
       "<Figure size 432x288 with 1 Axes>"
      ]
     },
     "metadata": {
      "needs_background": "light"
     },
     "output_type": "display_data"
    }
   ],
   "source": [
    "plt.plot(rb.ts);"
   ]
  },
  {
   "cell_type": "code",
   "execution_count": 140,
   "metadata": {},
   "outputs": [],
   "source": [
    "# First we define our portfolio optimization problem\n",
    "rb = RiskBudgeting(risk_measure='variantile', budgets='ERC', alpha=.5)\n",
    "\n",
    "# Then we solve the defined problem using X\n",
    "rb.solve(X, c=.65, store=True)"
   ]
  },
  {
   "cell_type": "code",
   "execution_count": 141,
   "metadata": {},
   "outputs": [
    {
     "data": {
      "text/plain": [
       "array([0.60910538, 0.22164219, 0.16925243])"
      ]
     },
     "execution_count": 141,
     "metadata": {},
     "output_type": "execute_result"
    }
   ],
   "source": [
    "rb.x"
   ]
  },
  {
   "cell_type": "code",
   "execution_count": 139,
   "metadata": {},
   "outputs": [
    {
     "data": {
      "text/plain": [
       "[<matplotlib.lines.Line2D at 0x1fe9ba42f10>,\n",
       " <matplotlib.lines.Line2D at 0x1fe9ad45070>,\n",
       " <matplotlib.lines.Line2D at 0x1fe9ba74ee0>]"
      ]
     },
     "execution_count": 139,
     "metadata": {},
     "output_type": "execute_result"
    },
    {
     "data": {
      "image/png": "[encoded data removed]",
      "text/plain": [
       "<Figure size 432x288 with 1 Axes>"
      ]
     },
     "metadata": {
      "needs_background": "light"
     },
     "output_type": "display_data"
    }
   ],
   "source": [
    "plt.plot(rb.ys)"
   ]
  },
  {
   "cell_type": "code",
   "execution_count": 136,
   "metadata": {},
   "outputs": [
    {
     "data": {
      "text/plain": [
       "[<matplotlib.lines.Line2D at 0x1fe939ab4c0>]"
      ]
     },
     "execution_count": 136,
     "metadata": {},
     "output_type": "execute_result"
    },
    {
     "data": {
      "image/png": "[encoded data removed]",
      "text/plain": [
       "<Figure size 432x288 with 1 Axes>"
      ]
     },
     "metadata": {
      "needs_background": "light"
     },
     "output_type": "display_data"
    }
   ],
   "source": [
    "plt.plot(rb.ts)"
   ]
  },
  {
   "cell_type": "code",
   "execution_count": null,
   "metadata": {},
   "outputs": [],
   "source": []
  }
 ],
 "metadata": {
  "kernelspec": {
   "display_name": "Python 3",
   "language": "python",
   "name": "python3"
  },
  "language_info": {
   "codemirror_mode": {
    "name": "ipython",
    "version": 3
   },
   "file_extension": ".py",
   "mimetype": "text/x-python",
   "name": "python",
   "nbconvert_exporter": "python",
   "pygments_lexer": "ipython3",
   "version": "3.8.5"
  }
 },
 "nbformat": 4,
 "nbformat_minor": 4
}
